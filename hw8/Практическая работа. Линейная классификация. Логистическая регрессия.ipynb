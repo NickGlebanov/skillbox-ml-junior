{
 "cells": [
  {
   "cell_type": "markdown",
   "metadata": {
    "id": "Q7ytv2GMjpGZ"
   },
   "source": [
    "# Логистическая регрессия. Практическая работа\n",
    "\n",
    "## Цель практической работы\n",
    "\n",
    "Вы уже делали задание, в котором с помощью метода ближайших соседей оценивали склонность клиента банка откликнуться или не откликнуться на предложение.\n",
    "\n",
    "В этом практическом задании ваши цели:\n",
    "*  решить эту же задачу с помощью логистической регрессии;\n",
    "*  потренироваться в подборе порога; \n",
    "*  потренироваться в подборе гиперпараметров модели."
   ]
  },
  {
   "cell_type": "markdown",
   "metadata": {
    "id": "Sj3n0n38nEfs"
   },
   "source": [
    "## Что входит в работу\n",
    "\n",
    "*  Загрузить данные для задачи.\n",
    "*  Обучить метод ближайших соседей с заданным количеством соседей k, вычислить метрики.\n",
    "*  Обучить логистическую регрессию с параметрами по умолчанию, вычислить метрики.\n",
    "*  Подобрать порог модели, вычислить метрики.\n",
    "*  Подобрать гиперпараметр С (константа регуляризации) модели, вычислить метрики."
   ]
  },
  {
   "cell_type": "markdown",
   "metadata": {
    "id": "3qfZPYNpoFGE"
   },
   "source": [
    "## Что оценивается\n",
    "\n",
    "*  Выполнены все этапы задания: код запускается, отрабатывает без ошибок; подробно и обоснованно написаны текстовые выводы, где это требуется."
   ]
  },
  {
   "cell_type": "markdown",
   "metadata": {
    "id": "3_EzM8UJoRHd"
   },
   "source": [
    "## Формат сдачи\n",
    "Выполните предложенные задания — впишите свой код (или, если требуется, текст) в ячейки после комментариев. \n",
    "\n",
    "*Комментарии — это текст, который начинается с символа #. Например: # ваш код здесь.*\n",
    "\n",
    "Сохраните изменения, используя опцию Save and Checkpoint из вкладки меню File или кнопку Save and Checkpoint на панели инструментов. Итоговый файл в формате .ipynb (файл Jupyter Notebook) загрузите в личный кабинет и отправьте на проверку."
   ]
  },
  {
   "cell_type": "code",
   "execution_count": 1,
   "metadata": {
    "id": "aPDB2wP8jndz"
   },
   "outputs": [],
   "source": [
    "# подключим библиотеки\n",
    "%matplotlib inline\n",
    "import matplotlib.pyplot as plt\n",
    "import numpy as np\n",
    "import pandas as pd\n",
    "\n",
    "import warnings\n",
    "warnings.filterwarnings(\"ignore\")"
   ]
  },
  {
   "cell_type": "code",
   "execution_count": 2,
   "metadata": {
    "id": "7Zw7RmtAjn8O"
   },
   "outputs": [],
   "source": [
    "# считаем данные\n",
    "data = pd.read_csv('ClientsData.csv')"
   ]
  },
  {
   "cell_type": "code",
   "execution_count": 3,
   "metadata": {
    "id": "3QbRGWqJjxOv"
   },
   "outputs": [
    {
     "data": {
      "text/html": [
       "<div>\n",
       "<style scoped>\n",
       "    .dataframe tbody tr th:only-of-type {\n",
       "        vertical-align: middle;\n",
       "    }\n",
       "\n",
       "    .dataframe tbody tr th {\n",
       "        vertical-align: top;\n",
       "    }\n",
       "\n",
       "    .dataframe thead th {\n",
       "        text-align: right;\n",
       "    }\n",
       "</style>\n",
       "<table border=\"1\" class=\"dataframe\">\n",
       "  <thead>\n",
       "    <tr style=\"text-align: right;\">\n",
       "      <th></th>\n",
       "      <th>AGE</th>\n",
       "      <th>SOCSTATUS_WORK_FL</th>\n",
       "      <th>SOCSTATUS_PENS_FL</th>\n",
       "      <th>GENDER</th>\n",
       "      <th>CHILD_TOTAL</th>\n",
       "      <th>DEPENDANTS</th>\n",
       "      <th>PERSONAL_INCOME</th>\n",
       "      <th>LOAN_NUM_TOTAL</th>\n",
       "      <th>LOAN_NUM_CLOSED</th>\n",
       "      <th>LOAN_DLQ_NUM</th>\n",
       "      <th>TARGET</th>\n",
       "    </tr>\n",
       "  </thead>\n",
       "  <tbody>\n",
       "    <tr>\n",
       "      <th>0</th>\n",
       "      <td>49</td>\n",
       "      <td>1</td>\n",
       "      <td>0</td>\n",
       "      <td>1</td>\n",
       "      <td>2</td>\n",
       "      <td>1</td>\n",
       "      <td>5000.0</td>\n",
       "      <td>1</td>\n",
       "      <td>1</td>\n",
       "      <td>2</td>\n",
       "      <td>0</td>\n",
       "    </tr>\n",
       "    <tr>\n",
       "      <th>1</th>\n",
       "      <td>32</td>\n",
       "      <td>1</td>\n",
       "      <td>0</td>\n",
       "      <td>1</td>\n",
       "      <td>3</td>\n",
       "      <td>3</td>\n",
       "      <td>12000.0</td>\n",
       "      <td>1</td>\n",
       "      <td>1</td>\n",
       "      <td>1</td>\n",
       "      <td>0</td>\n",
       "    </tr>\n",
       "    <tr>\n",
       "      <th>2</th>\n",
       "      <td>52</td>\n",
       "      <td>1</td>\n",
       "      <td>0</td>\n",
       "      <td>1</td>\n",
       "      <td>4</td>\n",
       "      <td>0</td>\n",
       "      <td>9000.0</td>\n",
       "      <td>2</td>\n",
       "      <td>1</td>\n",
       "      <td>0</td>\n",
       "      <td>0</td>\n",
       "    </tr>\n",
       "    <tr>\n",
       "      <th>3</th>\n",
       "      <td>39</td>\n",
       "      <td>1</td>\n",
       "      <td>0</td>\n",
       "      <td>1</td>\n",
       "      <td>1</td>\n",
       "      <td>1</td>\n",
       "      <td>25000.0</td>\n",
       "      <td>1</td>\n",
       "      <td>1</td>\n",
       "      <td>3</td>\n",
       "      <td>0</td>\n",
       "    </tr>\n",
       "    <tr>\n",
       "      <th>4</th>\n",
       "      <td>30</td>\n",
       "      <td>1</td>\n",
       "      <td>0</td>\n",
       "      <td>0</td>\n",
       "      <td>0</td>\n",
       "      <td>0</td>\n",
       "      <td>12000.0</td>\n",
       "      <td>2</td>\n",
       "      <td>1</td>\n",
       "      <td>2</td>\n",
       "      <td>0</td>\n",
       "    </tr>\n",
       "  </tbody>\n",
       "</table>\n",
       "</div>"
      ],
      "text/plain": [
       "   AGE  SOCSTATUS_WORK_FL  SOCSTATUS_PENS_FL  GENDER  CHILD_TOTAL  DEPENDANTS  \\\n",
       "0   49                  1                  0       1            2           1   \n",
       "1   32                  1                  0       1            3           3   \n",
       "2   52                  1                  0       1            4           0   \n",
       "3   39                  1                  0       1            1           1   \n",
       "4   30                  1                  0       0            0           0   \n",
       "\n",
       "   PERSONAL_INCOME  LOAN_NUM_TOTAL  LOAN_NUM_CLOSED  LOAN_DLQ_NUM  TARGET  \n",
       "0           5000.0               1                1             2       0  \n",
       "1          12000.0               1                1             1       0  \n",
       "2           9000.0               2                1             0       0  \n",
       "3          25000.0               1                1             3       0  \n",
       "4          12000.0               2                1             2       0  "
      ]
     },
     "execution_count": 3,
     "metadata": {},
     "output_type": "execute_result"
    }
   ],
   "source": [
    "data.head()"
   ]
  },
  {
   "cell_type": "markdown",
   "metadata": {
    "id": "HbnaQJxw2mHQ"
   },
   "source": [
    "В этом ноутбуке нам придётся подбирать гиперпараметры модели, а ещё порог. Поэтому, чтобы не переобучиться, разобъём данные на трейн, валидацию и тест.\n",
    "\n",
    "*  Обучать модели будем на тренировочных данных.\n",
    "*  Подбирать необходимые величины — по валидации.\n",
    "*  Оценивать качество — на тесте."
   ]
  },
  {
   "cell_type": "code",
   "execution_count": 4,
   "metadata": {
    "id": "bkG1LjB0s81d"
   },
   "outputs": [],
   "source": [
    "# разделим данные на обучающую и тестовую выборки\n",
    "from sklearn.model_selection import train_test_split\n",
    "\n",
    "X = data.drop('TARGET', axis=1)\n",
    "y = data['TARGET']\n",
    "\n",
    "Xtrain, Xtest, ytrain, ytest = train_test_split(X, y, train_size=0.7, random_state=123)\n",
    "Xtrain, Xval, ytrain, yval = train_test_split(Xtrain, ytrain, train_size=0.7, random_state=123)"
   ]
  },
  {
   "cell_type": "markdown",
   "metadata": {
    "id": "9g3cyUKPqgqu"
   },
   "source": [
    "В задании по методу ближайших соседей было найдено, что оптимальное число соседей k = 9.\n",
    "\n",
    "Обучите на тренировочных данных KNN с k = 9 и выведите матрицу ошибок, а также значение метрик precision и recall на тестовых данных."
   ]
  },
  {
   "cell_type": "code",
   "execution_count": 10,
   "metadata": {
    "id": "efySFKgej1_1"
   },
   "outputs": [],
   "source": [
    "from sklearn.neighbors import KNeighborsClassifier\n",
    "from sklearn.metrics import confusion_matrix, classification_report\n",
    "from sklearn.metrics import precision_score, recall_score"
   ]
  },
  {
   "cell_type": "code",
   "execution_count": 11,
   "metadata": {
    "id": "QzR_npzTj5OC"
   },
   "outputs": [
    {
     "name": "stdout",
     "output_type": "stream",
     "text": [
      "Матрица ошибок:\n",
      " [[3982   26]\n",
      " [ 553    6]]\n",
      "\n",
      "Отчёт по классификации:\n",
      "               precision    recall  f1-score   support\n",
      "\n",
      "           0      0.878     0.994     0.932      4008\n",
      "           1      0.188     0.011     0.020       559\n",
      "\n",
      "    accuracy                          0.873      4567\n",
      "   macro avg      0.533     0.502     0.476      4567\n",
      "weighted avg      0.794     0.873     0.821      4567\n",
      "\n"
     ]
    }
   ],
   "source": [
    "knn = KNeighborsClassifier(n_neighbors=9)\n",
    "knn.fit(Xtrain, ytrain)\n",
    "\n",
    "ypred = knn.predict(Xtest)\n",
    "\n",
    "print(\"Матрица ошибок:\\n\", confusion_matrix(ytest, ypred))\n",
    "print(\"\\nОтчёт по классификации:\\n\", classification_report(ytest, ypred, digits=3))\n"
   ]
  },
  {
   "cell_type": "markdown",
   "metadata": {},
   "source": [
    "TP (True Positive) — модель правильно предсказала положительный класс.\n",
    "\n",
    "TN (True Negative) — модель правильно предсказала отрицательный класс."
   ]
  },
  {
   "cell_type": "markdown",
   "metadata": {
    "id": "E9Bk7tSerX-L"
   },
   "source": [
    "Какой вывод можно сделать:\n",
    "- для класса 0 — клиент не откликнулся — мы получили достаточно высокие значения TP в том числе потому, что представителей этого класса больше;\n",
    "- для класса 1 — клиент откликнулся — мы получили низкие значения TN.\n",
    "\n",
    "Поэтому значения precision и recall низкие. Модель даёт неудовлетворительные результаты, так как находит мало клиентов, которые откликнутся на предложение.\n",
    "\n"
   ]
  },
  {
   "cell_type": "markdown",
   "metadata": {
    "id": "zGmfshG9rmBn"
   },
   "source": [
    "Обучите логистическую регрессию с параметрами по умолчанию и посмотрите на метрики.\n",
    "\n",
    "Везде дальше при оценке метрик надо выводить confusion_matrix, precision и recall."
   ]
  },
  {
   "cell_type": "code",
   "execution_count": 18,
   "metadata": {
    "id": "7tOX78zbrPHB"
   },
   "outputs": [
    {
     "name": "stdout",
     "output_type": "stream",
     "text": [
      "Матрица ошибок:\n",
      " [[4004    4]\n",
      " [ 559    0]]\n",
      "\n",
      "Отчёт по классификации:\n",
      "               precision    recall  f1-score   support\n",
      "\n",
      "           0      0.877     0.999     0.934      4008\n",
      "           1      0.000     0.000     0.000       559\n",
      "\n",
      "    accuracy                          0.877      4567\n",
      "   macro avg      0.439     0.500     0.467      4567\n",
      "weighted avg      0.770     0.877     0.820      4567\n",
      "\n"
     ]
    }
   ],
   "source": [
    "from sklearn.linear_model import LogisticRegression\n",
    "from sklearn.metrics import accuracy_score\n",
    "\n",
    "logreg = LogisticRegression()\n",
    "logreg.fit(Xtrain, ytrain)\n",
    "\n",
    "ypred = logreg.predict(Xtest)\n",
    "\n",
    "\n",
    "print(\"Матрица ошибок:\\n\", confusion_matrix(ytest, ypred))\n",
    "print(\"\\nОтчёт по классификации:\\n\", classification_report(ytest, ypred, digits=3))"
   ]
  },
  {
   "cell_type": "markdown",
   "metadata": {
    "id": "CvWGh7m9sTKM"
   },
   "source": [
    "Наша цель — найти как можно больше клиентов, которые откликнутся на предложение. А модель таких не находит. \n",
    "\n",
    "Мы помним, что метод predict_proba у логистической регрессии предсказывает математические (то есть корректные) вероятности классов. Предскажите вероятности классов с помощью обученной логистической регрессии на тестовых данных и выведите вероятности положительного класса для первых десяти объектов. \n",
    "\n",
    "Глядя на полученные вероятности, попробуйте объяснить, почему вы получили именно такую матрицу ошибок и такие значения точности с полноты."
   ]
  },
  {
   "cell_type": "code",
   "execution_count": 19,
   "metadata": {
    "id": "LNqjcxrwsLzl"
   },
   "outputs": [
    {
     "name": "stdout",
     "output_type": "stream",
     "text": [
      "Accuracy: 0.8767243266914824\n",
      "Матрица ошибок:\n",
      " [[4004    4]\n",
      " [ 559    0]]\n",
      "\n",
      "Отчёт по классификации:\n",
      "               precision    recall  f1-score   support\n",
      "\n",
      "           0      0.877     0.999     0.934      4008\n",
      "           1      0.000     0.000     0.000       559\n",
      "\n",
      "    accuracy                          0.877      4567\n",
      "   macro avg      0.439     0.500     0.467      4567\n",
      "weighted avg      0.770     0.877     0.820      4567\n",
      "\n",
      "\n",
      "Вероятности положительного класса (1) для первых 10 объектов:\n",
      "[0.07132911 0.11530907 0.29188183 0.21909763 0.13873437 0.04492519\n",
      " 0.06424646 0.03588642 0.05715797 0.06871201]\n"
     ]
    }
   ],
   "source": [
    "# Предсказания меток\n",
    "ypred = logreg.predict(Xtest)\n",
    "\n",
    "# Оценка точности\n",
    "print(\"Accuracy:\", accuracy_score(ytest, ypred))\n",
    "\n",
    "# Матрица ошибок и отчёт\n",
    "print(\"Матрица ошибок:\\n\", confusion_matrix(ytest, ypred))\n",
    "print(\"\\nОтчёт по классификации:\\n\", classification_report(ytest, ypred, digits=3))\n",
    "\n",
    "# Дополнительно: предсказание вероятностей\n",
    "yproba = logreg.predict_proba(Xtest)\n",
    "\n",
    "# Посмотрим вероятности положительного класса (1) для первых 10 примеров\n",
    "print(\"\\nВероятности положительного класса (1) для первых 10 объектов:\")\n",
    "print(yproba[:10, 1])"
   ]
  },
  {
   "cell_type": "code",
   "execution_count": null,
   "metadata": {
    "id": "mwJzqbfv5yE4"
   },
   "outputs": [],
   "source": [
    "Логистическая регрессия предсказывает вероятности, и по умолчанию использует порог 0.5\n",
    "Из-за дисбаланса большинство вероятностей класса 1 оказываются ниже 0.5, поэтому модель классифицирует почти всё как класс 0."
   ]
  },
  {
   "cell_type": "markdown",
   "metadata": {
    "id": "Z08xmRAcugGb"
   },
   "source": [
    "Давайте уточним цель. Пусть нам нужно найти как можно больше клиентов, которые откликнутся на предложение, то есть максимизировать полноту (recall). \n",
    "\n",
    "При этом хочется, чтобы точность модели (precision) не была очень низкой. Заказчик посмотрел на результаты работы KNN и потребовал, чтобы точность была не ниже, чем у KNN: $precision \\geq 0.13$."
   ]
  },
  {
   "cell_type": "markdown",
   "metadata": {
    "id": "f-syFkflt6EV"
   },
   "source": [
    "Давайте будем изменять порог для перевода вероятности в классы так, чтобы:\n",
    "*   максимизировать значение recall\n",
    "*   при условии, что $precision \\geq 0.13$.\n",
    "\n",
    "Если мы будем подбирать порог по тестовой выборке, то, по сути, обучимся на ней и, значит, переобучимся. Это плохо. \n",
    "\n",
    "Поэтому предскажите вероятности на валидационной выборке и подберите порог по ней (Xval, yval), а затем посмотрите, какое качество для найденного порога вы получите на тестовых данных."
   ]
  },
  {
   "cell_type": "code",
   "execution_count": 20,
   "metadata": {
    "id": "398pACpBtFi2"
   },
   "outputs": [
    {
     "name": "stdout",
     "output_type": "stream",
     "text": [
      "Оптимальный порог: 0.073\n",
      "Recall: 0.890, Precision: 0.130\n"
     ]
    }
   ],
   "source": [
    "# Предсказание вероятностей для валидационной выборки\n",
    "probs_val = logreg.predict_proba(Xval)[:, 1]\n",
    "\n",
    "max_recall = -1\n",
    "thr = -1\n",
    "prec = -1\n",
    "\n",
    "for threshold in np.arange(0.05, 1, 0.001):\n",
    "    preds = (probs_val >= threshold).astype(int)\n",
    "    \n",
    "    precision = precision_score(yval, preds)\n",
    "    recall = recall_score(yval, preds)\n",
    "    \n",
    "    if precision >= 0.13 and recall > max_recall:\n",
    "        max_recall = recall\n",
    "        thr = threshold\n",
    "        prec = precision\n",
    "\n",
    "print(f\"Оптимальный порог: {thr:.3f}\")\n",
    "print(f\"Recall: {max_recall:.3f}, Precision: {prec:.3f}\")"
   ]
  },
  {
   "cell_type": "code",
   "execution_count": 21,
   "metadata": {
    "id": "qpHv0DVwywKq"
   },
   "outputs": [
    {
     "name": "stdout",
     "output_type": "stream",
     "text": [
      "На тестовой выборке:\n",
      "Матрица ошибок:\n",
      " [[1061 2947]\n",
      " [  88  471]]\n",
      "\n",
      "Отчёт по классификации:\n",
      "               precision    recall  f1-score   support\n",
      "\n",
      "           0      0.923     0.265     0.411      4008\n",
      "           1      0.138     0.843     0.237       559\n",
      "\n",
      "    accuracy                          0.335      4567\n",
      "   macro avg      0.531     0.554     0.324      4567\n",
      "weighted avg      0.827     0.335     0.390      4567\n",
      "\n"
     ]
    }
   ],
   "source": [
    "# Предсказание вероятностей для теста\n",
    "probs_test = logreg.predict_proba(Xtest)[:, 1]\n",
    "\n",
    "# Перевод в метки по найденному порогу\n",
    "ytest_preds = (probs_test >= thr).astype(int)\n",
    "\n",
    "# Метрики\n",
    "print(\"На тестовой выборке:\")\n",
    "print(\"Матрица ошибок:\\n\", confusion_matrix(ytest, ytest_preds))\n",
    "print(\"\\nОтчёт по классификации:\\n\", classification_report(ytest, ytest_preds, digits=3))"
   ]
  },
  {
   "cell_type": "markdown",
   "metadata": {
    "id": "fLakCD5TwmDe"
   },
   "source": [
    "Сделайте вывод. Смогли ли мы с помощью подбора порога добиться большего значения recall, чем у KNN? "
   ]
  },
  {
   "cell_type": "markdown",
   "metadata": {
    "id": "222ZBiDy6Z1_"
   },
   "source": [
    "Точность снизилась, но recall значительно улучшился. "
   ]
  },
  {
   "cell_type": "markdown",
   "metadata": {
    "id": "zc1D7Hy8wvkR"
   },
   "source": [
    "А ещё, чтобы улучшить качество предсказания, можно подбирать значение гиперпараметра C у логистической регрессии. Для каждого значения C придётся подбирать свой порог, поэтому:  \n",
    "\n",
    "1. Обучите для значений C из диапазона [0.05, 0.15, 0.25, ...., 10.05] логистическую регрессию (на тренировочных данных).\n",
    "\n",
    "2. Для каждой из обученных моделей во внутреннем цикле подберите оптимальный порог (как в предыдущем задании) — на валидационных данных.\n",
    "\n",
    "\n",
    "\n",
    "В качестве результата выведите значение C и порога для модели, которая даёт наилучшие значения метрик (наибольший recall при ограничении на $precision \\geq 0.13$).\n",
    "\n",
    "Также напечатайте полученные метрики (матрицу ошибок, точность и полноту) для лучшей модели — на тестовых данных."
   ]
  },
  {
   "cell_type": "code",
   "execution_count": 25,
   "metadata": {
    "id": "EhjmTEkhuT9S"
   },
   "outputs": [],
   "source": [
    "regs = []\n",
    "recalls = []\n",
    "thresholds = []\n",
    "precisions = []\n",
    "\n",
    "# Подбор по значениям C\n",
    "for reg in np.arange(0.001, 1, 0.01):\n",
    "    # Обучаем модель с C = reg\n",
    "    model = LogisticRegression(C=reg, random_state=42, max_iter=1000)\n",
    "    model.fit(Xtrain, ytrain)\n",
    "\n",
    "    # Предсказание вероятностей на валидационной выборке\n",
    "    probs_val = model.predict_proba(Xval)[:, 1]\n",
    "\n",
    "    max_recall = -1\n",
    "    thr = -1\n",
    "    prec = -1\n",
    "\n",
    "    # Перебор порогов\n",
    "    for threshold in np.arange(0.05, 0.25, 0.001):\n",
    "        preds = (probs_val >= threshold).astype(int)\n",
    "\n",
    "        precision = precision_score(yval, preds, zero_division=0)\n",
    "        recall = recall_score(yval, preds)\n",
    "\n",
    "        # Условие: precision >= 0.13\n",
    "        if precision >= 0.13 and recall > max_recall:\n",
    "            max_recall = recall\n",
    "            thr = threshold\n",
    "            prec = precision\n",
    "\n",
    "    recalls.append(max_recall)\n",
    "    thresholds.append(thr)\n",
    "    precisions.append(prec)\n",
    "    regs.append(reg)"
   ]
  },
  {
   "cell_type": "code",
   "execution_count": 26,
   "metadata": {
    "id": "DZtXAIxi0Ksr"
   },
   "outputs": [
    {
     "name": "stdout",
     "output_type": "stream",
     "text": [
      "Наилучшая модель:\n",
      "C = 0.101\n",
      "Порог вероятности = 0.068\n",
      "Recall = 0.963\n",
      "Precision = 0.130\n"
     ]
    }
   ],
   "source": [
    "\n",
    "regs = np.array(regs)\n",
    "recalls = np.array(recalls)\n",
    "thresholds = np.array(thresholds)\n",
    "precisions = np.array(precisions)\n",
    "\n",
    "\n",
    "best_idx = np.argmax(recalls)\n",
    "\n",
    "\n",
    "best_C = regs[best_idx]\n",
    "best_recall = recalls[best_idx]\n",
    "best_precision = precisions[best_idx]\n",
    "best_threshold = thresholds[best_idx]\n",
    "\n",
    "\n",
    "print(f\"Наилучшая модель:\")\n",
    "print(f\"C = {best_C:.3f}\")\n",
    "print(f\"Порог вероятности = {best_threshold:.3f}\")\n",
    "print(f\"Recall = {best_recall:.3f}\")\n",
    "print(f\"Precision = {best_precision:.3f}\")"
   ]
  },
  {
   "cell_type": "code",
   "execution_count": 29,
   "metadata": {
    "id": "rQLQZ1bg4BGy"
   },
   "outputs": [
    {
     "name": "stdout",
     "output_type": "stream",
     "text": [
      "📊 Матрица ошибок на тестовой выборке:\n",
      "[[ 722 3286]\n",
      " [  42  517]]\n",
      "\n",
      "📄 Отчёт по классификации на тестовой выборке:\n",
      "              precision    recall  f1-score   support\n",
      "\n",
      "           0      0.945     0.180     0.303      4008\n",
      "           1      0.136     0.925     0.237       559\n",
      "\n",
      "    accuracy                          0.271      4567\n",
      "   macro avg      0.540     0.553     0.270      4567\n",
      "weighted avg      0.846     0.271     0.295      4567\n",
      "\n"
     ]
    }
   ],
   "source": [
    "final_model = LogisticRegression(C=best_C, random_state=42, max_iter=50000)\n",
    "final_model.fit(Xtrain, ytrain)\n",
    "\n",
    "probs_test = final_model.predict_proba(Xtest)[:, 1]\n",
    "\n",
    "ytest_preds = (probs_test >= best_threshold).astype(int)\n",
    "\n",
    "print(\"📊 Матрица ошибок на тестовой выборке:\")\n",
    "print(confusion_matrix(ytest, ytest_preds))\n",
    "\n",
    "print(\"\\n📄 Отчёт по классификации на тестовой выборке:\")\n",
    "print(classification_report(ytest, ytest_preds, digits=3))"
   ]
  },
  {
   "cell_type": "markdown",
   "metadata": {
    "id": "fwpx_UVS2DK_"
   },
   "source": [
    "Влияет ли изменение гиперпараметра C на качество модели (и, соответственно, метрики) в этой задаче?"
   ]
  },
  {
   "cell_type": "code",
   "execution_count": null,
   "metadata": {
    "id": "FzTsUr7p7Eu-"
   },
   "outputs": [],
   "source": [
    "Да, изменение гиперпараметра C влияет на качество модели, в пределах 15% по метрике recall"
   ]
  },
  {
   "cell_type": "markdown",
   "metadata": {
    "id": "BaCqlDx74pns"
   },
   "source": [
    "Ответьте развёрнуто на следующие вопросы:\n",
    "\n",
    "* Удалось ли при помощи логистической регрессии и подбора порога превзойти качество метода ближайших соседей в этой задаче? \n",
    "\n",
    "* Смогли ли мы при помощи этой модели получить высокий recall при ограничениях, поставленных заказчиком?\n"
   ]
  },
  {
   "cell_type": "code",
   "execution_count": null,
   "metadata": {
    "id": "upznWo7n4o0F"
   },
   "outputs": [],
   "source": [
    "Удалось ли при помощи логистической регрессии и подбора порога превзойти качество метода ближайших соседей в этой задаче?\n",
    "Да, удалось. Метод KNN давал recall около 0.011 при precision 0.188, а логистическая регрессия с оптимизированным C и порогом достигла recall\n",
    "более 0.9 при precision ≈ 0.13, что в разы лучше по полноте — главной метрике в задаче.\n",
    "\n",
    "Смогли ли мы при помощи этой модели получить высокий recall при ограничениях, поставленных заказчиком?\n",
    "Да, модель достигла высокого значения recall при условии, что precision не опускается ниже 0.13. Это соответствует поставленным бизнес-целям: находить как можно больше откликнувшихся клиентов, даже ценой появления ложных срабатываний."
   ]
  }
 ],
 "metadata": {
  "colab": {
   "collapsed_sections": [],
   "provenance": []
  },
  "kernelspec": {
   "display_name": "Python 3 (ipykernel)",
   "language": "python",
   "name": "python3"
  },
  "language_info": {
   "codemirror_mode": {
    "name": "ipython",
    "version": 3
   },
   "file_extension": ".py",
   "mimetype": "text/x-python",
   "name": "python",
   "nbconvert_exporter": "python",
   "pygments_lexer": "ipython3",
   "version": "3.12.7"
  }
 },
 "nbformat": 4,
 "nbformat_minor": 4
}
